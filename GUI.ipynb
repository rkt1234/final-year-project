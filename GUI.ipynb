{
 "cells": [
  {
   "cell_type": "code",
   "execution_count": 4,
   "metadata": {},
   "outputs": [
    {
     "ename": "ModuleNotFoundError",
     "evalue": "No module named 'ipynb'",
     "output_type": "error",
     "traceback": [
      "\u001b[1;31m---------------------------------------------------------------------------\u001b[0m",
      "\u001b[1;31mModuleNotFoundError\u001b[0m                       Traceback (most recent call last)",
      "Input \u001b[1;32mIn [4]\u001b[0m, in \u001b[0;36m<cell line: 4>\u001b[1;34m()\u001b[0m\n\u001b[0;32m      2\u001b[0m \u001b[38;5;28;01mfrom\u001b[39;00m \u001b[38;5;21;01mtkinter\u001b[39;00m \u001b[38;5;28;01mimport\u001b[39;00m filedialog\n\u001b[0;32m      3\u001b[0m \u001b[38;5;28;01mfrom\u001b[39;00m \u001b[38;5;21;01mPIL\u001b[39;00m \u001b[38;5;28;01mimport\u001b[39;00m Image, ImageTk\n\u001b[1;32m----> 4\u001b[0m \u001b[38;5;28;01mfrom\u001b[39;00m \u001b[38;5;21;01mipynb\u001b[39;00m\u001b[38;5;21;01m.\u001b[39;00m\u001b[38;5;21;01mfs\u001b[39;00m\u001b[38;5;21;01m.\u001b[39;00m\u001b[38;5;21;01mfull\u001b[39;00m\u001b[38;5;21;01m.\u001b[39;00m\u001b[38;5;21;01mtest\u001b[39;00m \u001b[38;5;28;01mimport\u001b[39;00m \u001b[38;5;241m*\u001b[39m\n\u001b[0;32m      5\u001b[0m image_height\u001b[38;5;241m=\u001b[39m\u001b[38;5;241m0\u001b[39m\n\u001b[0;32m      6\u001b[0m image_width\u001b[38;5;241m=\u001b[39m\u001b[38;5;241m0\u001b[39m\n",
      "\u001b[1;31mModuleNotFoundError\u001b[0m: No module named 'ipynb'"
     ]
    }
   ],
   "source": [
    "import tkinter as tk\n",
    "from tkinter import filedialog\n",
    "from PIL import Image, ImageTk\n",
    "from ipynb.fs.full.test import *\n",
    "image_height=0\n",
    "image_width=0\n",
    "\n",
    "def open_image():\n",
    "    # Open file dialog to select an image\n",
    "    file_path = filedialog.askopenfilename()\n",
    "    \n",
    "    if file_path:\n",
    "        # Open the selected image file\n",
    "        image = Image.open(file_path)\n",
    "        global image_height\n",
    "        image_height = image.size[0]\n",
    "        global image_width\n",
    "        image_width = image.size[1]\n",
    "        # Convert the image to Tkinter PhotoImage format\n",
    "        tk_image = ImageTk.PhotoImage(image)\n",
    "        \n",
    "        # Display the image on a label widget\n",
    "        image_label.config(image=tk_image)\n",
    "        image_label.image = tk_image\n",
    "\n",
    "def predict_image():\n",
    "     print(image_height)\n",
    "     print(image_width)\n",
    "     message_label.config(text=\"Button clicked!\")\n",
    "\n",
    "# creating tkinter window\n",
    "root =  tk.Tk()\n",
    "root.title(\"Image uploader\")\n",
    "\n",
    "# setting height and width of the window\n",
    "window_width = 500\n",
    "window_height = 500\n",
    "root.geometry(f\"{window_width}x{window_height}\")\n",
    "\n",
    "# providing the welcome label and instructions\n",
    "welcome_label = tk.Label(root, text=\"Welcome to Hand Geometry Biometric\", font=(\"Arial\", 18))\n",
    "welcome_label.pack(pady=20)\n",
    "instruction_label = tk.Label(root, text=\"Upload an image\", font=(\"Arial\", 18))\n",
    "instruction_label.pack(pady=20)\n",
    "select_image = tk.Button(root, text=\"Select image\", command=open_image)\n",
    "select_image.pack(pady=10, padx=20) \n",
    "\n",
    "# displaying image\n",
    "image_label = tk.Label(root)\n",
    "image_label.pack()\n",
    "\n",
    "#predict\n",
    "predict = tk.Button(root, text=\"Predict\", command=predict_image)\n",
    "predict.pack(pady=10, padx=20) \n",
    "\n",
    "#display message \n",
    "message_label = tk.Label(root, text=\"\")\n",
    "message_label.pack()\n",
    "# run tkinter event loop\n",
    "root.mainloop()\n",
    "\n"
   ]
  }
 ],
 "metadata": {
  "kernelspec": {
   "display_name": "Python 3",
   "language": "python",
   "name": "python3"
  },
  "language_info": {
   "codemirror_mode": {
    "name": "ipython",
    "version": 3
   },
   "file_extension": ".py",
   "mimetype": "text/x-python",
   "name": "python",
   "nbconvert_exporter": "python",
   "pygments_lexer": "ipython3",
   "version": "3.10.6"
  }
 },
 "nbformat": 4,
 "nbformat_minor": 2
}
