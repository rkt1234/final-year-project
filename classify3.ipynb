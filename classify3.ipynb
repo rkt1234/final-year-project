{
 "cells": [
  {
   "cell_type": "code",
   "execution_count": 1,
   "metadata": {},
   "outputs": [],
   "source": [
    "import tensorflow as tf\n",
    "from tensorflow import keras\n",
    "from keras import Sequential, optimizers\n",
    "from keras.layers import Dense,Conv2D,MaxPooling2D,Flatten,BatchNormalization\n",
    "from tensorflow.keras.layers import Conv2D, MaxPooling2D, Flatten, Dense, Dropout\n",
    "from tensorflow.keras import regularizers\n",
    "from keras.utils import image_dataset_from_directory"
   ]
  },
  {
   "cell_type": "code",
   "execution_count": 2,
   "metadata": {},
   "outputs": [
    {
     "name": "stdout",
     "output_type": "stream",
     "text": [
      "WARNING:tensorflow:From C:\\Users\\RAVIKANT TIWARI\\AppData\\Local\\Temp\\ipykernel_22856\\2327134822.py:3: is_gpu_available (from tensorflow.python.framework.test_util) is deprecated and will be removed in a future version.\n",
      "Instructions for updating:\n",
      "Use `tf.config.list_physical_devices('GPU')` instead.\n",
      "True\n",
      "True\n"
     ]
    }
   ],
   "source": [
    "# import tensorflow as tf\n",
    "\n",
    "print(tf.test.is_gpu_available()) \n",
    "print( tf.test.is_built_with_cuda())\n"
   ]
  },
  {
   "cell_type": "code",
   "execution_count": 3,
   "metadata": {},
   "outputs": [
    {
     "name": "stdout",
     "output_type": "stream",
     "text": [
      "Found 13478 files belonging to 163 classes.\n",
      "<class 'tensorflow.python.data.ops.dataset_ops.BatchDataset'>\n",
      "['Person_001', 'Person_002', 'Person_003', 'Person_004', 'Person_005', 'Person_006', 'Person_007', 'Person_008', 'Person_009', 'Person_010', 'Person_011', 'Person_012', 'Person_013', 'Person_014', 'Person_015', 'Person_016', 'Person_017', 'Person_018', 'Person_019', 'Person_020', 'Person_021', 'Person_022', 'Person_023', 'Person_024', 'Person_025', 'Person_026', 'Person_027', 'Person_028', 'Person_029', 'Person_030', 'Person_031', 'Person_032', 'Person_033', 'Person_034', 'Person_035', 'Person_036', 'Person_037', 'Person_038', 'Person_039', 'Person_040', 'Person_041', 'Person_042', 'Person_043', 'Person_044', 'Person_045', 'Person_046', 'Person_047', 'Person_048', 'Person_049', 'Person_050', 'Person_051', 'Person_052', 'Person_053', 'Person_054', 'Person_055', 'Person_056', 'Person_057', 'Person_058', 'Person_059', 'Person_060', 'Person_061', 'Person_062', 'Person_063', 'Person_064', 'Person_065', 'Person_066', 'Person_067', 'Person_068', 'Person_069', 'Person_070', 'Person_071', 'Person_072', 'Person_073', 'Person_074', 'Person_075', 'Person_076', 'Person_077', 'Person_078', 'Person_079', 'Person_080', 'Person_081', 'Person_082', 'Person_083', 'Person_084', 'Person_085', 'Person_086', 'Person_087', 'Person_088', 'Person_089', 'Person_090', 'Person_091', 'Person_092', 'Person_093', 'Person_094', 'Person_095', 'Person_096', 'Person_097', 'Person_098', 'Person_099', 'Person_100', 'Person_101', 'Person_102', 'Person_103', 'Person_104', 'Person_105', 'Person_106', 'Person_107', 'Person_108', 'Person_109', 'Person_110', 'Person_111', 'Person_112', 'Person_113', 'Person_114', 'Person_115', 'Person_116', 'Person_117', 'Person_118', 'Person_119', 'Person_120', 'Person_121', 'Person_122', 'Person_123', 'Person_124', 'Person_125', 'Person_126', 'Person_127', 'Person_128', 'Person_129', 'Person_130', 'Person_131', 'Person_132', 'Person_133', 'Person_134', 'Person_135', 'Person_136', 'Person_137', 'Person_138', 'Person_139', 'Person_140', 'Person_141', 'Person_142', 'Person_143', 'Person_144', 'Person_145', 'Person_146', 'Person_147', 'Person_148', 'Person_149', 'Person_150', 'Person_151', 'Person_152', 'Person_153', 'Person_154', 'Person_155', 'Person_156', 'Person_157', 'Person_158', 'Person_159', 'Person_160', 'Person_161', 'Person_162', 'Person_163']\n",
      "422\n"
     ]
    }
   ],
   "source": [
    "from math import floor\n",
    "import os\n",
    "\n",
    "# Path to the directory containing the folders\n",
    "directory = r\"C:\\Users\\RAVIKANT TIWARI\\Desktop\\all_images\"\n",
    "\n",
    "# Get a list of all folder names\n",
    "folder_names = os.listdir(directory)\n",
    "\n",
    "# Filter out only the folders that start with \"Person_\"\n",
    "folder_names = [folder_name for folder_name in folder_names if folder_name.startswith(\"Person_\")]\n",
    "\n",
    "# Sort the folder names based on the numeric part\n",
    "folder_names.sort(key=lambda x: int(x.split(\"_\")[1]))\n",
    "\n",
    "# Rename folders with leading zeros\n",
    "for i, folder_name in enumerate(folder_names, start=1):\n",
    "    old_path = os.path.join(directory, folder_name)\n",
    "    new_name = f\"Person_{i:03d}\"  # Pad with leading zeros\n",
    "    new_path = os.path.join(directory, new_name)\n",
    "    os.rename(old_path, new_path)\n",
    "\n",
    "# Now use keras.utils.image_dataset_from_directory()\n",
    "image_ds = keras.utils.image_dataset_from_directory(\n",
    "    directory,\n",
    "    labels='inferred',\n",
    "    label_mode='int',\n",
    "    batch_size=32,\n",
    "    image_size=(256, 256),\n",
    "    shuffle=True,\n",
    "    seed=123\n",
    ")\n",
    "\n",
    "print(type(image_ds))\n",
    "print(image_ds.class_names)\n",
    "train_size=floor(len(image_ds)*.8)\n",
    "val_size=floor(len(image_ds)*.1)\n",
    "test_size=floor(len(image_ds)*.1)\n",
    "print(len(image_ds))\n",
    "train_ds=image_ds.take(train_size)\n",
    "val_ds=image_ds.skip(train_size).take(val_size)\n",
    "test_ds=image_ds.skip(train_size+val_size).take(test_size)"
   ]
  },
  {
   "cell_type": "code",
   "execution_count": 4,
   "metadata": {},
   "outputs": [],
   "source": [
    "# Normalize\n",
    "def process(image,label):\n",
    "    image = tf.cast(image/255. ,tf.float32)\n",
    "    return image,label\n",
    "\n",
    "train_ds = train_ds.map(process)\n",
    "val_ds = val_ds.map(process)\n",
    "test_ds=test_ds.map(process)"
   ]
  },
  {
   "cell_type": "code",
   "execution_count": 5,
   "metadata": {},
   "outputs": [],
   "source": [
    "model = Sequential()\n",
    "model.add(Conv2D(filters=32, kernel_size=(3, 3), strides=1,padding='same', activation='relu', input_shape=(256, 256, 3)))    \n",
    "model.add(MaxPooling2D(pool_size=(2,2), strides=2))\n",
    "model.add(Conv2D(filters=64, kernel_size=(3,3), padding='same', activation='relu'))\n",
    "model.add(MaxPooling2D(pool_size=(2,2), strides=2))\n",
    "model.add(Conv2D(filters=64, kernel_size=(3,3), padding='same', activation='relu'))\n",
    "model.add(MaxPooling2D(pool_size=(2,2), strides=2))\n",
    "model.add(Flatten())\n",
    "model.add(Dense(256, activation='relu'))\n",
    "model.add(Dropout(0.1))\n",
    "model.add(Dense(128, activation='relu'))\n",
    "model.add(Dropout(0.1))\n",
    "model.add(Dense(64, activation='relu'))\n",
    "model.add(Dropout(0.1))\n",
    "model.add(Dense(163, activation='softmax'))\n"
   ]
  },
  {
   "cell_type": "code",
   "execution_count": 6,
   "metadata": {},
   "outputs": [
    {
     "name": "stdout",
     "output_type": "stream",
     "text": [
      "Model: \"sequential\"\n",
      "_________________________________________________________________\n",
      " Layer (type)                Output Shape              Param #   \n",
      "=================================================================\n",
      " conv2d (Conv2D)             (None, 256, 256, 32)      896       \n",
      "                                                                 \n",
      " max_pooling2d (MaxPooling2D  (None, 128, 128, 32)     0         \n",
      " )                                                               \n",
      "                                                                 \n",
      " conv2d_1 (Conv2D)           (None, 128, 128, 64)      18496     \n",
      "                                                                 \n",
      " max_pooling2d_1 (MaxPooling  (None, 64, 64, 64)       0         \n",
      " 2D)                                                             \n",
      "                                                                 \n",
      " conv2d_2 (Conv2D)           (None, 64, 64, 64)        36928     \n",
      "                                                                 \n",
      " max_pooling2d_2 (MaxPooling  (None, 32, 32, 64)       0         \n",
      " 2D)                                                             \n",
      "                                                                 \n",
      " flatten (Flatten)           (None, 65536)             0         \n",
      "                                                                 \n",
      " dense (Dense)               (None, 256)               16777472  \n",
      "                                                                 \n",
      " dropout (Dropout)           (None, 256)               0         \n",
      "                                                                 \n",
      " dense_1 (Dense)             (None, 128)               32896     \n",
      "                                                                 \n",
      " dropout_1 (Dropout)         (None, 128)               0         \n",
      "                                                                 \n",
      " dense_2 (Dense)             (None, 64)                8256      \n",
      "                                                                 \n",
      " dropout_2 (Dropout)         (None, 64)                0         \n",
      "                                                                 \n",
      " dense_3 (Dense)             (None, 163)               10595     \n",
      "                                                                 \n",
      "=================================================================\n",
      "Total params: 16,885,539\n",
      "Trainable params: 16,885,539\n",
      "Non-trainable params: 0\n",
      "_________________________________________________________________\n"
     ]
    }
   ],
   "source": [
    "model.summary()"
   ]
  },
  {
   "cell_type": "code",
   "execution_count": 7,
   "metadata": {},
   "outputs": [],
   "source": [
    "model.compile(loss = 'sparse_categorical_crossentropy',\n",
    "            optimizer = 'adam',\n",
    "            metrics = ['accuracy'])"
   ]
  },
  {
   "cell_type": "code",
   "execution_count": 8,
   "metadata": {},
   "outputs": [
    {
     "name": "stdout",
     "output_type": "stream",
     "text": [
      "Epoch 1/10\n",
      "337/337 [==============================] - 81s 196ms/step - loss: 5.0825 - accuracy: 0.0063 - val_loss: 4.8501 - val_accuracy: 0.0260\n",
      "Epoch 2/10\n",
      "337/337 [==============================] - 83s 247ms/step - loss: 3.8216 - accuracy: 0.1327 - val_loss: 2.0445 - val_accuracy: 0.4487\n",
      "Epoch 3/10\n",
      "337/337 [==============================] - 92s 271ms/step - loss: 1.8248 - accuracy: 0.4795 - val_loss: 1.0655 - val_accuracy: 0.6987\n",
      "Epoch 4/10\n",
      "337/337 [==============================] - 93s 277ms/step - loss: 0.9918 - accuracy: 0.6927 - val_loss: 0.6769 - val_accuracy: 0.8043\n",
      "Epoch 5/10\n",
      "337/337 [==============================] - 80s 238ms/step - loss: 0.6346 - accuracy: 0.7971 - val_loss: 0.4974 - val_accuracy: 0.8557\n",
      "Epoch 6/10\n",
      "337/337 [==============================] - 84s 250ms/step - loss: 0.4421 - accuracy: 0.8532 - val_loss: 0.4311 - val_accuracy: 0.8676\n",
      "Epoch 7/10\n",
      "337/337 [==============================] - 94s 273ms/step - loss: 0.3375 - accuracy: 0.8939 - val_loss: 0.3693 - val_accuracy: 0.8943\n",
      "Epoch 8/10\n",
      "337/337 [==============================] - 91s 271ms/step - loss: 0.2805 - accuracy: 0.9068 - val_loss: 0.3267 - val_accuracy: 0.9055\n",
      "Epoch 9/10\n",
      "337/337 [==============================] - 106s 312ms/step - loss: 0.2196 - accuracy: 0.9287 - val_loss: 0.3587 - val_accuracy: 0.8929\n",
      "Epoch 10/10\n",
      "337/337 [==============================] - 96s 274ms/step - loss: 0.1997 - accuracy: 0.9336 - val_loss: 0.3119 - val_accuracy: 0.9204\n"
     ]
    }
   ],
   "source": [
    "es = keras.callbacks.EarlyStopping(monitor='val_loss', \n",
    "                                   mode='min',\n",
    "                                   patience=10, \n",
    "                                   )\n",
    "history = model.fit(train_ds,epochs=10,validation_data=val_ds,verbose=1,callbacks=es,)"
   ]
  },
  {
   "cell_type": "code",
   "execution_count": 9,
   "metadata": {},
   "outputs": [
    {
     "name": "stdout",
     "output_type": "stream",
     "text": [
      "89\n"
     ]
    }
   ],
   "source": [
    "scores = model.evaluate(test_ds,verbose=0)\n",
    "print(int(scores[1]*100))"
   ]
  },
  {
   "cell_type": "code",
   "execution_count": 10,
   "metadata": {},
   "outputs": [
    {
     "data": {
      "image/png": "[encoded data removed]",
      "text/plain": [
       "<Figure size 640x480 with 1 Axes>"
      ]
     },
     "metadata": {},
     "output_type": "display_data"
    }
   ],
   "source": [
    "import matplotlib.pyplot as plt\n",
    "\n",
    "plt.plot(history.history['accuracy'],color='red',label='train')\n",
    "plt.plot(history.history['val_accuracy'],color='blue',label='validation')\n",
    "# plt.plot(history.history['test_accuracy'], color='green', label='test')\n",
    "plt.legend()\n",
    "plt.show()"
   ]
  },
  {
   "cell_type": "code",
   "execution_count": 11,
   "metadata": {},
   "outputs": [
    {
     "data": {
      "image/png": "[encoded data removed]",
      "text/plain": [
       "<Figure size 640x480 with 1 Axes>"
      ]
     },
     "metadata": {},
     "output_type": "display_data"
    }
   ],
   "source": [
    "plt.plot(history.history['loss'],color='red',label='train')\n",
    "plt.plot(history.history['val_loss'],color='blue',label='validation')\n",
    "plt.legend()\n",
    "plt.show()"
   ]
  },
  {
   "cell_type": "code",
   "execution_count": 12,
   "metadata": {},
   "outputs": [],
   "source": [
    "# save the trained model\n",
    "model.save('biometric3.h5')"
   ]
  },
  {
   "cell_type": "code",
   "execution_count": null,
   "metadata": {},
   "outputs": [],
   "source": []
  }
 ],
 "metadata": {
  "kernelspec": {
   "display_name": "Python 3",
   "language": "python",
   "name": "python3"
  },
  "language_info": {
   "codemirror_mode": {
    "name": "ipython",
    "version": 3
   },
   "file_extension": ".py",
   "mimetype": "text/x-python",
   "name": "python",
   "nbconvert_exporter": "python",
   "pygments_lexer": "ipython3",
   "version": "3.10.6"
  },
  "orig_nbformat": 4
 },
 "nbformat": 4,
 "nbformat_minor": 2
}
