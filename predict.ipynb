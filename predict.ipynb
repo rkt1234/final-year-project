{
 "cells": [
  {
   "cell_type": "code",
   "execution_count": 16,
   "metadata": {},
   "outputs": [
    {
     "name": "stdout",
     "output_type": "stream",
     "text": [
      "1/1 [==============================] - 0s 194ms/step\n",
      "123\n"
     ]
    }
   ],
   "source": [
    "import tensorflow as tf\n",
    "from tensorflow.keras.models import load_model\n",
    "import cv2\n",
    "import numpy as np\n",
    "# Load the image and preprocess it \n",
    "image = cv2.imread(\"unseenimages/Person_125/IMG_129(5).JPG\") \n",
    "image = cv2.resize(image, (256, 256)) \n",
    "image=image.reshape((1,256,256,3))\n",
    "image = image / 255.0 \n",
    "\n",
    "# Load the CNN model \n",
    "model = load_model(\"biometric2.h5\") \n",
    " \n",
    "# Pass the image through the CNN \n",
    "output = model.predict(image) \n",
    " \n",
    "# Extract the output from the final layer of the CNN \n",
    "# print(output)\n",
    "output = output[0] \n",
    "# print(type(output))\n",
    "# print(output)\n",
    "print(np.argmax(output))"
   ]
  }
 ],
 "metadata": {
  "kernelspec": {
   "display_name": "Python 3",
   "language": "python",
   "name": "python3"
  },
  "language_info": {
   "codemirror_mode": {
    "name": "ipython",
    "version": 3
   },
   "file_extension": ".py",
   "mimetype": "text/x-python",
   "name": "python",
   "nbconvert_exporter": "python",
   "pygments_lexer": "ipython3",
   "version": "3.10.6"
  }
 },
 "nbformat": 4,
 "nbformat_minor": 2
}
